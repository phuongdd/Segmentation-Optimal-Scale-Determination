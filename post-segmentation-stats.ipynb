{
 "cells": [
  {
   "cell_type": "code",
   "execution_count": null,
   "metadata": {},
   "outputs": [],
   "source": [
    "%reload_ext autoreload\n",
    "%autoreload 2\n",
    "\n",
    "import numpy as np\n",
    "import pandas as pd\n",
    "import scipy.stats\n",
    "import sklearn.metrics\n",
    "import skimage.segmentation\n",
    "import skimage.measure\n",
    "\n",
    "from tqdm.auto import tqdm\n",
    "from IPython.core.display import display, HTML\n",
    "import ipywidgets as widgets\n",
    "\n",
    "import matplotlib.pyplot as plt\n",
    "import seaborn as sns\n",
    "\n",
    "import plotly.offline as ply\n",
    "import plotly.graph_objs as plygo\n",
    "import cufflinks as cf\n",
    "ply.init_notebook_mode(connected=False)\n",
    "cf.set_config_file(offline=True, world_readable=False, theme='white')\n",
    "\n",
    "from hsi_segmentation import HSISegmentation\n",
    "from hsi_dataset import HSIDataset"
   ]
  },
  {
   "cell_type": "markdown",
   "metadata": {},
   "source": [
    "# Equations\n",
    "$$ OS_{i,j} = 1- \\frac{area(r_i \\cap s_j)}{area(r_i)} $$\n",
    "$$ OS = \\sum_i \\sum_j 1- \\frac{area(r_i \\cap s_j)}{area(r_i)} $$\n",
    "\n",
    "$$ US_{i,j} = 1- \\frac{area(r_i \\cap s_j)}{area(s_j)} $$\n",
    "$$ US = \\sum_i \\sum_j 1- \\frac{area(r_i \\cap s_j)}{area(s_j)} $$\n",
    "$$ ED = \\sum_i \\sum_j \\sqrt{ \\left( 1- \\frac{area(r_i \\cap s_j)}{area(r_i)} \\right)^2 + \\left(   1- \\frac{area(r_i \\cap s_j)}{area(s_j)} \\right)^2  }  $$\n",
    "$$ r_i \\in R, s_j \\in S $$"
   ]
  },
  {
   "cell_type": "markdown",
   "metadata": {},
   "source": [
    "# Suburban"
   ]
  },
  {
   "cell_type": "code",
   "execution_count": null,
   "metadata": {},
   "outputs": [],
   "source": [
    "dataset = HSIDataset(file_path='/Users/kiran/PhD/hsi_segmentation/data/urban1/20170820_Urban_Ref_Reg_Subset.tif', name='urban1')\n",
    "seg = HSISegmentation(dataset=dataset)\n",
    "results = [['kmeans', 6],\n",
    "           ['meanshift', 7],\n",
    "           ['watershed', 1000]\n",
    "           ]\n",
    "seg.plot_segmentation(results)\n",
    "seg.final_bar_graphs(results)"
   ]
  },
  {
   "cell_type": "markdown",
   "metadata": {},
   "source": [
    "## Urban"
   ]
  },
  {
   "cell_type": "code",
   "execution_count": null,
   "metadata": {},
   "outputs": [],
   "source": [
    "dataset = HSIDataset(file_path='/Users/kiran/PhD/hsi_segmentation/data/urban2/20170820_Urban2_INT_Final.tif', name='urban2')\n",
    "seg = HSISegmentation(dataset=dataset)\n",
    "results = [['kmeans', 6],\n",
    "           ['meanshift', 6],\n",
    "           ['watershed', 3700],\n",
    "          ]\n",
    "dataset.rgb_gain=2\n",
    "seg.plot_segmentation(results)\n",
    "seg.final_bar_graphs(results)"
   ]
  },
  {
   "cell_type": "markdown",
   "metadata": {},
   "source": [
    "# Forest"
   ]
  },
  {
   "cell_type": "code",
   "execution_count": null,
   "metadata": {},
   "outputs": [],
   "source": [
    "dataset = HSIDataset(file_path='/Users/kiran/PhD/hsi_segmentation/data/forest/20170820_Forest_Final_INT.tif', name='vegetation')\n",
    "seg = HSISegmentation(dataset=dataset)\n",
    "results = [['kmeans', 7],\n",
    "           ['meanshift', 9],\n",
    "           ['watershed', 1400]\n",
    "           ]\n",
    "dataset.rgb_gain=6\n",
    "seg.plot_segmentation(results)\n",
    "seg.final_bar_graphs(results)"
   ]
  },
  {
   "cell_type": "code",
   "execution_count": null,
   "metadata": {},
   "outputs": [],
   "source": []
  },
  {
   "cell_type": "code",
   "execution_count": null,
   "metadata": {},
   "outputs": [],
   "source": []
  },
  {
   "cell_type": "code",
   "execution_count": null,
   "metadata": {},
   "outputs": [],
   "source": []
  },
  {
   "cell_type": "code",
   "execution_count": null,
   "metadata": {},
   "outputs": [],
   "source": []
  },
  {
   "cell_type": "code",
   "execution_count": null,
   "metadata": {},
   "outputs": [],
   "source": []
  },
  {
   "cell_type": "code",
   "execution_count": null,
   "metadata": {},
   "outputs": [],
   "source": []
  },
  {
   "cell_type": "code",
   "execution_count": null,
   "metadata": {},
   "outputs": [],
   "source": []
  },
  {
   "cell_type": "code",
   "execution_count": null,
   "metadata": {},
   "outputs": [],
   "source": []
  },
  {
   "cell_type": "code",
   "execution_count": null,
   "metadata": {},
   "outputs": [],
   "source": []
  },
  {
   "cell_type": "code",
   "execution_count": null,
   "metadata": {},
   "outputs": [],
   "source": []
  },
  {
   "cell_type": "code",
   "execution_count": null,
   "metadata": {},
   "outputs": [],
   "source": []
  },
  {
   "cell_type": "code",
   "execution_count": null,
   "metadata": {},
   "outputs": [],
   "source": []
  },
  {
   "cell_type": "code",
   "execution_count": null,
   "metadata": {},
   "outputs": [],
   "source": []
  },
  {
   "cell_type": "code",
   "execution_count": null,
   "metadata": {},
   "outputs": [],
   "source": []
  },
  {
   "cell_type": "code",
   "execution_count": null,
   "metadata": {},
   "outputs": [],
   "source": []
  },
  {
   "cell_type": "markdown",
   "metadata": {},
   "source": [
    "# Tests / Debug"
   ]
  },
  {
   "cell_type": "code",
   "execution_count": null,
   "metadata": {},
   "outputs": [],
   "source": [
    "df = seg.post_segmentation_stats('meanshift',6, debug=True)\n",
    "# #_filter = df.eval('(area_intersection >= 0.1*area_r) or (area_intersection >= 0.1*area_s)')\n",
    "# #df = df[_filter]\n",
    "# t = df[df.polygon_label_name=='Asphalt']\n",
    "\n",
    "# #t = df[df.algorithm=='meanshift']\n",
    "# #[['polygon_label_name','algorithm', 'OS', 'US', 'ED','IoU']]  #.groupby('polygon_label_name').mean()\n",
    "# t"
   ]
  },
  {
   "cell_type": "code",
   "execution_count": null,
   "metadata": {},
   "outputs": [],
   "source": [
    "seg.final_bar_graphs(results)"
   ]
  },
  {
   "cell_type": "code",
   "execution_count": null,
   "metadata": {},
   "outputs": [],
   "source": []
  },
  {
   "cell_type": "code",
   "execution_count": null,
   "metadata": {},
   "outputs": [],
   "source": []
  },
  {
   "cell_type": "code",
   "execution_count": null,
   "metadata": {},
   "outputs": [],
   "source": [
    "dataset = HSIDataset(file_path='/Users/kiran/PhD/hsi_segmentation/data/forest/20170820_Forest_Final_INT.tif', name='vegetation')\n",
    "seg = HSISegmentation(dataset=dataset)"
   ]
  },
  {
   "cell_type": "code",
   "execution_count": null,
   "metadata": {},
   "outputs": [],
   "source": [
    "_ = seg.post_segmentation_stats('meanshift', 9, debug=True)"
   ]
  },
  {
   "cell_type": "code",
   "execution_count": null,
   "metadata": {},
   "outputs": [],
   "source": [
    "seg.plot_segmentation(results)"
   ]
  },
  {
   "cell_type": "code",
   "execution_count": null,
   "metadata": {},
   "outputs": [],
   "source": []
  }
 ],
 "metadata": {
  "kernelspec": {
   "display_name": "Python 3",
   "language": "python",
   "name": "python3"
  },
  "language_info": {
   "codemirror_mode": {
    "name": "ipython",
    "version": 3
   },
   "file_extension": ".py",
   "mimetype": "text/x-python",
   "name": "python",
   "nbconvert_exporter": "python",
   "pygments_lexer": "ipython3",
   "version": "3.7.4"
  }
 },
 "nbformat": 4,
 "nbformat_minor": 4
}
